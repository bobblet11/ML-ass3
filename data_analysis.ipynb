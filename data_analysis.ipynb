{
 "cells": [
  {
   "cell_type": "code",
   "execution_count": 1,
   "metadata": {},
   "outputs": [
    {
     "name": "stdout",
     "output_type": "stream",
     "text": [
      "\n",
      "\n",
      "METADATA\n",
      "--------------------\n",
      "\n",
      "50000 samples\n",
      "2 columns\n",
      "\n",
      "null count: \n",
      "im_name    0\n",
      "label      0\n",
      "dtype: int64\n",
      "\n",
      "classes:\n",
      "[0 1 2 3 4 5 6 7 8 9]\n",
      "label\n",
      "2    5038\n",
      "8    5020\n",
      "1    5012\n",
      "0    5010\n",
      "3    5007\n",
      "7    5000\n",
      "4    4995\n",
      "5    4993\n",
      "9    4970\n",
      "6    4955\n",
      "Name: count, dtype: int64\n",
      "\n",
      "Average class distribution: 5000.0\n",
      "\n",
      "class distribution:\n",
      "label\n",
      "0    5010\n",
      "1    5012\n",
      "2    5038\n",
      "3    5007\n",
      "4    4995\n",
      "5    4993\n",
      "6    4955\n",
      "7    5000\n",
      "8    5020\n",
      "9    4970\n",
      "dtype: int64\n"
     ]
    }
   ],
   "source": [
    "import pandas as pd\n",
    "df = pd.read_csv('./train.csv')\n",
    "print(\"\\n\\nMETADATA\")\n",
    "print(\"--------------------\")\n",
    "\n",
    "print(f\"\\n{len(df.index)} samples\")\n",
    "print(f\"{len(df.columns)} columns\")\n",
    "\n",
    "print(f\"\\nnull count: \\n{df.isnull().sum()}\")\n",
    "\n",
    "class_values = df.label.unique()\n",
    "class_values.sort()\n",
    "print(f\"\\nclasses:\\n{class_values}\")\n",
    "print(df['label'].value_counts())\n",
    "\n",
    "\n",
    "sum = 0\n",
    "avg = 0\n",
    "for i in class_values:\n",
    "    sum+=len(df[df['label'] == i].index)\n",
    "avg = sum/len(class_values)\n",
    "print(f\"\\nAverage class distribution: {avg}\")\n",
    "\n",
    "class_distribution = df.groupby(\"label\").size()\n",
    "print(f\"\\nclass distribution:\\n{class_distribution}\")\n",
    "\n"
   ]
  },
  {
   "cell_type": "markdown",
   "metadata": {},
   "source": [
    "Comments on dataframe:\n",
    "\n",
    "- The dataset is considered a large dataset. 50,000 samples is a lot.\n",
    "- the dataset is clean. No need to interpolate missing values or remove columns/rows.\n",
    "- the class distribution is very even. \n",
    "- there are 10 labels. Multiclass.\n"
   ]
  },
  {
   "cell_type": "code",
   "execution_count": 31,
   "metadata": {},
   "outputs": [
    {
     "name": "stdout",
     "output_type": "stream",
     "text": [
      "FIRST SAMPLE:\n",
      "       im_name  label\n",
      "0  00016cd.jpg      6\n",
      "\n",
      "\n",
      "data dimension:\n",
      "height: 32\n",
      "width: 32\n",
      "features: 1024\n",
      "\n",
      "\n",
      "[[237 242 246]\n",
      " [238 246 249]\n",
      " [228 239 241]\n",
      " ...\n",
      " [112 150 153]\n",
      " [104 144 135]\n",
      " [ 96 139 122]]\n"
     ]
    }
   ],
   "source": [
    "import matplotlib.pyplot as plt\n",
    "import matplotlib as mpl\n",
    "from PIL import Image\n",
    "import numpy as np\n",
    "import math \n",
    "\n",
    "mpl.rcParams[\"figure.dpi\"] = 150\n",
    "\n",
    "first_sample = df.iloc[[0]]\n",
    "print(f\"FIRST SAMPLE:\\n{first_sample}\")\n",
    "sample_image_name = first_sample.im_name.values[0]\n",
    "image_path = f\"./train_ims/{sample_image_name}\"\n",
    "im = Image.open(image_path)\n",
    "pixels = np.array(list(im.getdata()))\n",
    "im.close()\n",
    "height = int(math.pow(len(pixels), 1/2))\n",
    "width = height\n",
    "print(f\"\\n\\ndata dimension:\\nheight: {int(height)}\\nwidth: {int(width)}\\nfeatures: {len(pixels)}\\n\\n\")\n",
    "print(pixels)"
   ]
  },
  {
   "cell_type": "markdown",
   "metadata": {},
   "source": [
    "Comments on data:\n",
    "- number of features is very large.\n",
    "- each feature has a RGB value. How do we convert RGB into a single value?\n",
    "- can't split image into 3 colour groups, R, G, B. The relationships between different colours would be lost.\n",
    "- images of the same class vary a lot. High variance within image classes.\n",
    "- for instance, different angles, different colours, different distances from camera.\n",
    "\n"
   ]
  },
  {
   "cell_type": "markdown",
   "metadata": {},
   "source": [
    "Initial Ideas:\n",
    "\n",
    "Large dataset.\n",
    "-> use smaller K in K-fold validation to improve training performance. \n",
    "-> Perhaps k = 5\n",
    "\n",
    "Even class distribution:\n",
    "-> no need to apply any class balancing techniques, such as penalty weighting.\n",
    "\n",
    "Multiclass:\n",
    "-> will need an ensemble of SVMs. A SVM for each class in a ensemble.\n",
    "\n",
    "Features:\n",
    "-> should NOT use feature selection. Features are heavily related to one another and the variance in images is too great.\n",
    "-> feature reduction may be an idea, but the images are already so low resolution. Further compressing them may cause it to lose detail\n",
    "\n"
   ]
  }
 ],
 "metadata": {
  "kernelspec": {
   "display_name": "Python 3",
   "language": "python",
   "name": "python3"
  },
  "language_info": {
   "codemirror_mode": {
    "name": "ipython",
    "version": 3
   },
   "file_extension": ".py",
   "mimetype": "text/x-python",
   "name": "python",
   "nbconvert_exporter": "python",
   "pygments_lexer": "ipython3",
   "version": "3.12.7"
  }
 },
 "nbformat": 4,
 "nbformat_minor": 2
}
